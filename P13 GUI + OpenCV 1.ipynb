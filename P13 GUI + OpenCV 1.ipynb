{
 "cells": [
  {
   "cell_type": "markdown",
   "metadata": {},
   "source": [
    "___\n",
    "Teknologi Computer Vision  --  Pengampu Yasir Hasan\n",
    "___\n",
    "# Dasar Graphic User Interface(GUI) Programming menggunakan pySimpleGUI\n",
    "\n",
    "-  Install library pySimple GUI\n",
    "-  Basic User Interface Element\n",
    "-> Create & Display Window \n",
    "-> Add text and button into layout\n",
    "-> Button Handler\n",
    "- Image Widget\n",
    "-> Simple Image Viewer \n",
    "-> Image Viewer PySimpleGUI + OpenCV\n",
    "-> Video Viewer + OpenCV\n",
    "-> Video Viewer with Close Button\n",
    "- Widget Browse File\n",
    "-> Browse Image & View \n",
    "-> Browse Image & View with placeholder empty image\n",
    "-> Browse & Play Video\n",
    "-  Add Play and Pause Button\n",
    "-  Add button Stop video\n",
    "-  Customized Button\n",
    "->  Change button Color\n",
    "->  Change button size\n",
    "->  Apply Customized Button to Video Player\n",
    "-  PySimpleGUI theme\n",
    "-  Video Player + Play list\n",
    "->  Membuat Video Player + Playlist + Control Button (play, pause, stop)\n",
    "------------------------------------------ "
   ]
  },
  {
   "cell_type": "markdown",
   "metadata": {},
   "source": [
    "PySimpleGUI </br>\n",
    "PySimpleGUI diciptakan tahun 2018, dengan tujuannya menjadikan kode program yang dibuat menjadi sangat sedikit dan sederhana dibandingkan dengan 4 paket library pedahulunya yaitu :\n",
    "- TKinter: merupakan fitur special dari python\n",
    "- PyQt: ikatan lintas platform\n",
    "- wxPython\n",
    "- Remi\n",
    "\n"
   ]
  },
  {
   "cell_type": "markdown",
   "metadata": {},
   "source": [
    "#### 1. Install library pySimple GUI"
   ]
  },
  {
   "cell_type": "code",
   "execution_count": 1,
   "metadata": {},
   "outputs": [
    {
     "name": "stdout",
     "output_type": "stream",
     "text": [
      "Collecting pysimplegui\n",
      "  Downloading PySimpleGUI-4.60.1-py3-none-any.whl (509 kB)\n",
      "Installing collected packages: pysimplegui\n",
      "Successfully installed pysimplegui-4.60.1\n"
     ]
    }
   ],
   "source": [
    "! python -m pip install pysimplegui"
   ]
  },
  {
   "cell_type": "code",
   "execution_count": 2,
   "metadata": {},
   "outputs": [],
   "source": [
    "import os\n",
    "import PySimpleGUI as sg \n",
    "import cv2"
   ]
  },
  {
   "cell_type": "code",
   "execution_count": null,
   "metadata": {},
   "outputs": [],
   "source": []
  },
  {
   "cell_type": "markdown",
   "metadata": {},
   "source": [
    "___\n",
    "# Basic User Interface Element\n",
    "\n",
    "#### 2. Create & Display Window"
   ]
  },
  {
   "cell_type": "markdown",
   "metadata": {},
   "source": [
    "- Desain : <br>\n",
    "<img src=\"resource/basic-ui.png\" style=\"width:400px\"></img>\n",
    "- Salah satu dari dasar blok bangunan  PySimpleGUI adalah `.Window()`,\n",
    "- pada jendela yang dibuat, kita dapat menambahkan `title` dan `layout` dan mengatur `margins`,\n",
    "- `margin` adalah margin untuk tata letak yang dibuat `(margin-x, margin-y)`."
   ]
  },
  {
   "cell_type": "code",
   "execution_count": 3,
   "metadata": {
    "tags": [
     "readImage"
    ]
   },
   "outputs": [],
   "source": [
    "window = sg.Window(title=\"Hello World\", layout=[[]], margins=(200, 100))\n",
    "window.read()\n",
    "window.close()"
   ]
  },
  {
   "cell_type": "code",
   "execution_count": 4,
   "metadata": {},
   "outputs": [],
   "source": [
    "window = sg.Window(title=\"Belajar Python GUI+OPenCV\", layout=[[]], margins=(200, 100))\n",
    "window.read(timeout=4000)\n",
    "window.close()"
   ]
  },
  {
   "cell_type": "markdown",
   "metadata": {},
   "source": [
    "#### 3. Tambahkan teks dan tombol ke dalam `layout`"
   ]
  },
  {
   "cell_type": "code",
   "execution_count": 5,
   "metadata": {},
   "outputs": [
    {
     "name": "stdout",
     "output_type": "stream",
     "text": [
      "OK {}\n"
     ]
    }
   ],
   "source": [
    "layout = [[sg.Text(\"Hello from PySimpleGUI\")], \n",
    "          [sg.Button(\"OK\")]]\n",
    "\n",
    "window = sg.Window(title=\"Hello World\", layout=layout, margins=(200, 100))\n",
    "\n",
    "event, values = window.read()\n",
    "print(event, values)\n",
    "\n",
    "window.close()"
   ]
  },
  {
   "cell_type": "code",
   "execution_count": 6,
   "metadata": {},
   "outputs": [
    {
     "name": "stdout",
     "output_type": "stream",
     "text": [
      "OK {}\n"
     ]
    }
   ],
   "source": [
    "layout = [[sg.Text(\"Hello from PySimpleGUI\"), sg.Button(\"OK\")]]\n",
    "\n",
    "window = sg.Window(title=\"Hello World\", layout=layout, margins=(200, 100))\n",
    "\n",
    "event, values = window.read()\n",
    "print(event, values)\n",
    "\n",
    "window.close()"
   ]
  },
  {
   "cell_type": "markdown",
   "metadata": {},
   "source": [
    "- Result :<br>\n",
    "<img src=\"resource/text-n-button.png\" style=\"width:500px\"></img>\n",
    "- PySimpleGUI menggunakan daftar Python bersarang untuk meletakkan elemen-elemennya.\n",
    "- Dalam hal ini, Anda menambahkan elemen `Text()` dan elemen `Button()`."
   ]
  },
  {
   "cell_type": "code",
   "execution_count": 7,
   "metadata": {},
   "outputs": [
    {
     "name": "stdout",
     "output_type": "stream",
     "text": [
      "OK {}\n"
     ]
    }
   ],
   "source": [
    "layout = [[sg.Text(\"Hello from PySimpleGUI\")], \n",
    "          [sg.Button(\"OK\")],\n",
    "          [sg.Button(\"CANCEL\")]]\n",
    "\n",
    "window = sg.Window(title=\"Hello World\", layout=layout, margins=(200, 100))\n",
    "\n",
    "event, values = window.read()\n",
    "print(event, values)\n",
    "\n",
    "window.close()"
   ]
  },
  {
   "cell_type": "code",
   "execution_count": 8,
   "metadata": {},
   "outputs": [
    {
     "name": "stdout",
     "output_type": "stream",
     "text": [
      "OK {}\n"
     ]
    }
   ],
   "source": [
    "layout = [[sg.Text(\"Hello from PySimpleGUI\"),sg.Button(\"OK\")], \n",
    "          [sg.Button(\"CANCEL\")]]\n",
    "\n",
    "window = sg.Window(title=\"Hello World\", layout=layout, margins=(200, 100))\n",
    "\n",
    "event, values = window.read()\n",
    "print(event, values)\n",
    "\n",
    "window.close()"
   ]
  },
  {
   "cell_type": "markdown",
   "metadata": {},
   "source": [
    "#### 4.Button Handler"
   ]
  },
  {
   "cell_type": "code",
   "execution_count": 9,
   "metadata": {},
   "outputs": [
    {
     "name": "stdout",
     "output_type": "stream",
     "text": [
      "button close, clicked!\n"
     ]
    }
   ],
   "source": [
    "layout = [[sg.Text(\"klik button untuk close window!\")], \n",
    "          [sg.Button(\"close\")]]\n",
    "\n",
    "window = sg.Window(title=\"Hello World\", layout=layout, margins=(200, 100))\n",
    "\n",
    "event, values = window.read()\n",
    "if event == 'close':\n",
    "    print('button close, clicked!')\n",
    "\n",
    "window.close()"
   ]
  },
  {
   "cell_type": "code",
   "execution_count": 10,
   "metadata": {},
   "outputs": [
    {
     "name": "stdout",
     "output_type": "stream",
     "text": [
      "Hallo gaes, Apa kabar!\n"
     ]
    }
   ],
   "source": [
    "layout = [[sg.Text(\"klik button untuk print teks!\")], \n",
    "          [sg.Button(\"print\")]]\n",
    "\n",
    "window = sg.Window(title=\"Hello World\", layout=layout, margins=(200, 100))\n",
    "\n",
    "event, values = window.read()\n",
    "if event == 'print':\n",
    "    print('Hallo gaes, Apa kabar!')\n",
    "\n",
    "window.close()"
   ]
  },
  {
   "cell_type": "code",
   "execution_count": 11,
   "metadata": {},
   "outputs": [
    {
     "name": "stdout",
     "output_type": "stream",
     "text": [
      "Hallo gaes, Apa kabar!\n",
      "Hallo gaes, Apa kabar!\n"
     ]
    }
   ],
   "source": [
    "layout = [[sg.Text(\"klik button untuk print teks!\")], \n",
    "          [sg.Button(\"print\")]]\n",
    "\n",
    "window = sg.Window(title=\"Hello World\", layout=layout, margins=(200, 100))\n",
    "\n",
    "while True:\n",
    "    event, values = window.read()\n",
    "    if event == 'print':\n",
    "        print('Hallo gaes, Apa kabar!')\n",
    "    if event == sg.WIN_CLOSED:\n",
    "        break\n",
    "\n",
    "window.close()"
   ]
  },
  {
   "cell_type": "markdown",
   "metadata": {},
   "source": [
    "# Image Widget"
   ]
  },
  {
   "cell_type": "markdown",
   "metadata": {},
   "source": [
    "#### 5. Simple Image Viewer"
   ]
  },
  {
   "cell_type": "markdown",
   "metadata": {},
   "source": [
    "- Desain : <br>\n",
    "<img src=\"resource/image-viewer.png\" style=\"width:300px\"></img>\n",
    "- `Image()` :Elemen Gambar - tampilkan gambar di windows untuk `nama file` yang diberikan. Harus berupa `GIF` atau `PNG` saja."
   ]
  },
  {
   "cell_type": "code",
   "execution_count": 12,
   "metadata": {},
   "outputs": [],
   "source": [
    "image_viewer_layout= [\n",
    "    [sg.Text(\"lena.png\")],\n",
    "    [sg.Image(filename=\"lena.png\")],\n",
    "]\n",
    "\n",
    "window = sg.Window(title=\"Image Viewer\", layout=image_viewer_layout, margins=(30, 30))\n",
    "window.read()\n",
    "window.close()"
   ]
  },
  {
   "cell_type": "code",
   "execution_count": 13,
   "metadata": {},
   "outputs": [],
   "source": [
    "image_viewer_layout= [\n",
    "    [sg.Text(\"daun1.png\")],\n",
    "    [sg.Image(filename=\"daun1.png\")],\n",
    "]\n",
    "\n",
    "window = sg.Window(title=\"Image Viewer\", layout=image_viewer_layout, margins=(30, 30))\n",
    "window.read()\n",
    "window.close()"
   ]
  },
  {
   "cell_type": "markdown",
   "metadata": {},
   "source": [
    "#### 6. Image Viewer PySimpleGUI + OpenCV\n",
    "- convert matrix image ke png menggunakan `cv2.imencode()`\n",
    "- convert matrix `png` menjadi raw-data (bytes) menggunakan numpy function `.tobytes()`\n",
    "- menggunakan `window[key].update(data=image_byte)` untuk mengupdate data pada widget dengan `key` tersebut."
   ]
  },
  {
   "cell_type": "code",
   "execution_count": 14,
   "metadata": {
    "tags": [
     "readImage"
    ]
   },
   "outputs": [],
   "source": [
    "def readImage(filename = \"lena.png\"):\n",
    "    img = cv2.imread(filename) \n",
    "    ret, frame_png = cv2.imencode('.png', img)\n",
    "    img_byte = frame_png.tobytes()\n",
    "    return img_byte"
   ]
  },
  {
   "cell_type": "code",
   "execution_count": 15,
   "metadata": {
    "tags": [
     "readImage"
    ]
   },
   "outputs": [],
   "source": [
    "image_viewer_layout= [\n",
    "    [sg.Text(\"lena.png\")],\n",
    "    [sg.Image(filename='', key='-image-')],\n",
    "]\n",
    "\n",
    "window = sg.Window(title=\"Image Viewer\", finalize=True, layout=image_viewer_layout, margins=(10, 10))\n",
    "\n",
    "img_byte = readImage(filename = \"lena.jpg\")\n",
    "window['-image-'].update(data=img_byte)\n",
    "\n",
    "window.read()\n",
    "window.close()"
   ]
  },
  {
   "cell_type": "markdown",
   "metadata": {},
   "source": [
    "- `finalize=True` digunakan untuk dapat meng-update content widget kengan `key` yang belum di `.read()`"
   ]
  },
  {
   "cell_type": "markdown",
   "metadata": {},
   "source": [
    "#### 7. Video Viewer + OpenCV"
   ]
  },
  {
   "cell_type": "code",
   "execution_count": 16,
   "metadata": {},
   "outputs": [],
   "source": [
    "def readBytesFromFrame(cap):\n",
    "    frame_byte = None\n",
    "    ret, frame = cap.read()\n",
    "    if ret :\n",
    "        frame = cv2.resize(frame, (0,0), fx=0.5, fy=0.5)\n",
    "        ret, frame_png = cv2.imencode('.png', frame)\n",
    "        frame_byte = frame_png.tobytes()\n",
    "    return ret, frame_byte"
   ]
  },
  {
   "cell_type": "code",
   "execution_count": 17,
   "metadata": {},
   "outputs": [],
   "source": [
    "video_viewer_layout = [[sg.Image(filename='', key='-image-')]]\n",
    "\n",
    "window = sg.Window(title='Video Player', layout=video_viewer_layout, margins=(10, 10)) \n",
    "\n",
    "cap = cv2.VideoCapture(\"dataset/video1.mp4\")\n",
    "\n",
    "while cap.isOpened():   \n",
    "\n",
    "    event, values = window.read(timeout=20)  \n",
    "        \n",
    "    ret, frame_byte = readBytesFromFrame(cap)\n",
    "    \n",
    "    if not ret or event == sg.WIN_CLOSED:\n",
    "        break\n",
    "        \n",
    "    window['-image-'].update(data=frame_byte)\n",
    "\n",
    "cap.release()\n",
    "window.close()"
   ]
  },
  {
   "cell_type": "markdown",
   "metadata": {},
   "source": [
    "- `sg.WIN_CLOSED` adalah event close window by user \n",
    "- `window.read(timeout=20)` akan membaca semua data yang dibutuhkan widget/element dan menampilkanya.\n",
    "- `timeout=20` proses pembacaan akan dilakukan selama `20ms` / milidetik"
   ]
  },
  {
   "cell_type": "markdown",
   "metadata": {},
   "source": [
    "#### 8. Video Viewer with Close Button"
   ]
  },
  {
   "cell_type": "code",
   "execution_count": 18,
   "metadata": {},
   "outputs": [],
   "source": [
    "video_viewer_layout = [[sg.Image(filename='', key='-image-')], \n",
    "                       [sg.Button('close')]]\n",
    "\n",
    "window = sg.Window(title='Video Player', layout=video_viewer_layout, margins=(10, 10)) \n",
    "\n",
    "cap = cv2.VideoCapture(\"dataset/ball2.mp4\")\n",
    "\n",
    "while cap.isOpened():   \n",
    "\n",
    "    event, values = window.read(timeout=20)  \n",
    "        \n",
    "    ret, frame_byte = readBytesFromFrame(cap)\n",
    "    \n",
    "    if not ret or event == 'close' or event == sg.WIN_CLOSED:\n",
    "        break\n",
    "        \n",
    "    window['-image-'].update(data=frame_byte)\n",
    "\n",
    "cap.release()\n",
    "window.close()"
   ]
  },
  {
   "cell_type": "markdown",
   "metadata": {},
   "source": [
    "___\n",
    "## Widget Browse File"
   ]
  },
  {
   "cell_type": "markdown",
   "metadata": {},
   "source": [
    "#### 9. Browse Image & View\n",
    "- `sg.FileBrowse` digunakan untuk memunculkan tombol browse file,\n",
    "- `file_types=((\"Image\", \"*.png\"),)` akan membatasi file yang di browse adalah gambar dengan extension `.png`\n",
    "- `sg.In` adalah widget input text untuk menampung `path` lokasi gambar (e.g : C:/Users/Jhon/image.png)\n",
    "- `size=(25, 1)` adalah 25 char 1 baris pada input text `sg.In`\n",
    "- `enable_events=True` agar widgetdapat menghandle event"
   ]
  },
  {
   "cell_type": "code",
   "execution_count": 19,
   "metadata": {},
   "outputs": [
    {
     "name": "stdout",
     "output_type": "stream",
     "text": [
      "-filename- {'-filename-': 'C:/Users/LAB-MULTIMEDIA-COM15/P13 GUI + OpenCV 1/P13 GUI + OpenCV 1/baby01.png', 'Browse': 'C:/Users/LAB-MULTIMEDIA-COM15/P13 GUI + OpenCV 1/P13 GUI + OpenCV 1/baby01.png'}\n",
      "-filename- {'-filename-': 'C:/Users/LAB-MULTIMEDIA-COM15/P13 GUI + OpenCV 1/P13 GUI + OpenCV 1/baby01.png', 'Browse': 'C:/Users/LAB-MULTIMEDIA-COM15/P13 GUI + OpenCV 1/P13 GUI + OpenCV 1/baby01.png'}\n",
      "-filename- {'-filename-': 'C:/Users/LAB-MULTIMEDIA-COM15/P13 GUI + OpenCV 1/P13 GUI + OpenCV 1/baby01.png', 'Browse': 'C:/Users/LAB-MULTIMEDIA-COM15/P13 GUI + OpenCV 1/P13 GUI + OpenCV 1/baby01.png'}\n",
      "-filename- {'-filename-': 'C:/Users/LAB-MULTIMEDIA-COM15/P13 GUI + OpenCV 1/P13 GUI + OpenCV 1/baby01.png', 'Browse': 'C:/Users/LAB-MULTIMEDIA-COM15/P13 GUI + OpenCV 1/P13 GUI + OpenCV 1/baby01.png'}\n",
      "-filename- {'-filename-': 'C:/Users/LAB-MULTIMEDIA-COM15/P13 GUI + OpenCV 1/P13 GUI + OpenCV 1/baby01.png', 'Browse': 'C:/Users/LAB-MULTIMEDIA-COM15/P13 GUI + OpenCV 1/P13 GUI + OpenCV 1/baby01.png'}\n",
      "-filename- {'-filename-': 'C:/Users/LAB-MULTIMEDIA-COM15/P13 GUI + OpenCV 1/P13 GUI + OpenCV 1/baby01.png', 'Browse': 'C:/Users/LAB-MULTIMEDIA-COM15/P13 GUI + OpenCV 1/P13 GUI + OpenCV 1/baby01.png'}\n",
      "-filename- {'-filename-': 'C:/Users/LAB-MULTIMEDIA-COM15/P13 GUI + OpenCV 1/P13 GUI + OpenCV 1/baby01.png', 'Browse': 'C:/Users/LAB-MULTIMEDIA-COM15/P13 GUI + OpenCV 1/P13 GUI + OpenCV 1/baby01.png'}\n",
      "-filename- {'-filename-': 'C:/Users/LAB-MULTIMEDIA-COM15/P13 GUI + OpenCV 1/P13 GUI + OpenCV 1/baby01.png', 'Browse': 'C:/Users/LAB-MULTIMEDIA-COM15/P13 GUI + OpenCV 1/P13 GUI + OpenCV 1/baby01.png'}\n",
      "None None\n"
     ]
    }
   ],
   "source": [
    "layout = [[ \n",
    "            sg.Text(\"Image File\"),\n",
    "            sg.In(size=(25, 1), enable_events=True, key=\"-filename-\"),\n",
    "            sg.FileBrowse(file_types=((\"Image\", \"*.png\"),)) \n",
    "          ],\n",
    "          [ \n",
    "            sg.Image(filename='', key='-image-') \n",
    "          ]]\n",
    "\n",
    "window = sg.Window(title=\"Image Browse & Viewer\", finalize=True, layout=layout, margins=(10, 10))\n",
    "\n",
    "while True :\n",
    "    event, values = window.read()\n",
    "    print(event, values)\n",
    "    if event == sg.WIN_CLOSED :\n",
    "        break\n",
    "    if event == '-filename-' :\n",
    "        filename = values['-filename-']\n",
    "        img_byte = readImage(filename = filename)\n",
    "        window['-image-'].update(data=img_byte)\n",
    "\n",
    "window.close()"
   ]
  },
  {
   "cell_type": "markdown",
   "metadata": {},
   "source": [
    "#### 10. Browse Image & View with placeholder empty image"
   ]
  },
  {
   "cell_type": "code",
   "execution_count": null,
   "metadata": {},
   "outputs": [],
   "source": [
    "layout = [[ \n",
    "            sg.Text(\"Image File\"),\n",
    "            sg.In(size=(25, 1), enable_events=True, key=\"-filename-\"),\n",
    "            sg.FileBrowse(file_types=((\"Image\", \"*.png\"),)) \n",
    "          ],\n",
    "          [ \n",
    "            sg.Image(filename='empty.png', key='-image-') \n",
    "          ]]\n",
    "\n",
    "window = sg.Window(title=\"Image Browse & Viewer V2\", finalize=True, layout=layout, margins=(10, 10))\n",
    "\n",
    "while True :\n",
    "    event, values = window.read()\n",
    "    if event == sg.WIN_CLOSED :\n",
    "        break\n",
    "    if event == '-filename-' :\n",
    "        filename = values['-filename-']\n",
    "        img_byte = readImage(filename = filename)\n",
    "        window['-image-'].update(data=img_byte)\n",
    "\n",
    "window.close()"
   ]
  },
  {
   "cell_type": "markdown",
   "metadata": {},
   "source": [
    "#### 11. Browse & Play Video"
   ]
  },
  {
   "cell_type": "code",
   "execution_count": null,
   "metadata": {},
   "outputs": [],
   "source": [
    "layout = [[ \n",
    "            sg.Text(\"Video File\"),\n",
    "            sg.In(size=(25, 1), enable_events=True, key=\"-filename-\"),\n",
    "            sg.FileBrowse(file_types=((\"Video\", \"*.mp4\"),)) \n",
    "          ],\n",
    "          [ \n",
    "            sg.Image(filename='empty.png', key='-image-') \n",
    "          ]]\n",
    "\n",
    "window = sg.Window(title=\"Video Browse & Viewer\", finalize=True, layout=layout, margins=(10, 10))\n",
    "\n",
    "cap = None\n",
    "filename = ''\n",
    "while True :\n",
    "    event, values = window.read(timeout=25)\n",
    "    if event == sg.WIN_CLOSED :\n",
    "        break\n",
    "    if event == '-filename-' :\n",
    "        filename = values['-filename-']\n",
    "        cap = cv2.VideoCapture(filename)\n",
    "        \n",
    "    if cap is not None :\n",
    "        ret, frame_byte = readBytesFromFrame(cap)\n",
    "        if not ret:\n",
    "            cap.release()\n",
    "            break\n",
    "        window['-image-'].update(data=frame_byte)\n",
    "\n",
    "window.close()"
   ]
  },
  {
   "cell_type": "markdown",
   "metadata": {},
   "source": [
    "#### 12. Button Play dan Pause "
   ]
  },
  {
   "cell_type": "code",
   "execution_count": null,
   "metadata": {},
   "outputs": [],
   "source": [
    "layout = [[ \n",
    "            sg.Text(\"Video File\"),\n",
    "            sg.In(size=(25, 1), enable_events=True, key=\"-filename-\"),\n",
    "            sg.FileBrowse(file_types=((\"Video\", \"*.mp4\"),)),\n",
    "            sg.Button('play'),\n",
    "            sg.Button('pause')\n",
    "          ],\n",
    "          [ \n",
    "            sg.Image(filename='empty.png', key='-image-') \n",
    "          ]]\n",
    "\n",
    "window = sg.Window(title=\"Video Browse & Viewer\", finalize=True, layout=layout, margins=(10, 10))\n",
    "\n",
    "cap = None\n",
    "stat = ''\n",
    "filename = ''\n",
    "while True :\n",
    "    event, values = window.read(timeout=25)\n",
    "    if event == sg.WIN_CLOSED :\n",
    "        break\n",
    "    if event == '-filename-' :\n",
    "        filename = values['-filename-']\n",
    "        cap = cv2.VideoCapture(filename)\n",
    "        \n",
    "    if event == 'play' or event == 'pause':\n",
    "        stat = event\n",
    "\n",
    "    if stat == 'play':\n",
    "        if cap is None:\n",
    "            cap = cv2.VideoCapture(filename)\n",
    "        ret, frame_byte = readBytesFromFrame(cap)\n",
    "        if not ret:\n",
    "            cap.release()\n",
    "            cap = None\n",
    "            break\n",
    "        window['-image-'].update(data=frame_byte)\n",
    "        \n",
    "window.close()"
   ]
  },
  {
   "cell_type": "markdown",
   "metadata": {},
   "source": [
    "#### 13. button Stop video"
   ]
  },
  {
   "cell_type": "code",
   "execution_count": null,
   "metadata": {},
   "outputs": [],
   "source": [
    "layout = [[ \n",
    "            sg.Text(\"Video File\"),\n",
    "            sg.In(size=(25, 1), enable_events=True, key=\"-filename-\"),\n",
    "            sg.FileBrowse(file_types=((\"Video\", \"*.mp4\"),)),\n",
    "            sg.Button('play'),\n",
    "            sg.Button('pause'),\n",
    "            sg.Button('stop')\n",
    "          ],\n",
    "          [ \n",
    "            sg.Image(filename='empty.png', key='-image-') \n",
    "          ]]\n",
    "\n",
    "window = sg.Window(title=\"Video Browse & Viewer\", finalize=True, layout=layout, margins=(10, 10))\n",
    "\n",
    "cap = None\n",
    "stat = ''\n",
    "filename = ''\n",
    "while True :\n",
    "    event, values = window.read(timeout=25)\n",
    "    if event == sg.WIN_CLOSED :\n",
    "        break\n",
    "    if event == '-filename-' :\n",
    "        filename = values['-filename-']\n",
    "        \n",
    "    if event == 'play' or event == 'pause' or event == 'stop':\n",
    "        stat = event\n",
    "\n",
    "    if stat == 'play':\n",
    "        if cap is None:\n",
    "            cap = cv2.VideoCapture(filename)\n",
    "        ret, frame_byte = readBytesFromFrame(cap)\n",
    "        if not ret:\n",
    "            cap.release()\n",
    "            cap = None\n",
    "            break\n",
    "        window['-image-'].update(data=frame_byte)\n",
    "    \n",
    "    if cap is not None and stat == 'stop':\n",
    "        cap.release()\n",
    "        cap = None\n",
    "        window['-image-'].update(filename='empty.png')\n",
    "        \n",
    "window.close()"
   ]
  },
  {
   "cell_type": "code",
   "execution_count": null,
   "metadata": {},
   "outputs": [],
   "source": []
  },
  {
   "cell_type": "markdown",
   "metadata": {},
   "source": [
    "#### 14. Customized Button"
   ]
  },
  {
   "cell_type": "code",
   "execution_count": null,
   "metadata": {},
   "outputs": [],
   "source": [
    "image_play = \"asset/play.png\"\n",
    "image_pause = \"asset/pause.png\"\n",
    "image_stop = \"asset/stop.png\"\n",
    "\n",
    "layout = [[sg.Text(\"Hello from PySimpleGUI\")], \n",
    "          [\n",
    "          sg.Button(image_filename=image_play),\n",
    "          sg.Button(image_filename=image_pause),\n",
    "          sg.Button(image_filename=image_stop)\n",
    "          ]]\n",
    "\n",
    "window = sg.Window(title=\"Customized Button\", layout=layout, margins=(200, 100))\n",
    "\n",
    "event, values = window.read()\n",
    "print(event, values)\n",
    "\n",
    "window.close()"
   ]
  },
  {
   "cell_type": "markdown",
   "metadata": {},
   "source": [
    "#### 15. Change button Color"
   ]
  },
  {
   "cell_type": "code",
   "execution_count": null,
   "metadata": {},
   "outputs": [],
   "source": [
    "image_play = \"asset/play.png\"\n",
    "image_pause = \"asset/pause.png\"\n",
    "image_stop = \"asset/stop.png\"\n",
    "\n",
    "layout = [[sg.Text(\"Hello from PySimpleGUI\")], \n",
    "          [\n",
    "          sg.Button(image_filename=image_play, button_color=('#FFF', '#FFF')),\n",
    "          sg.Button(image_filename=image_pause, button_color=('#FFF', '#FFF')),\n",
    "          sg.Button(image_filename=image_stop, button_color=('#FFF', '#FFF'))\n",
    "          ]]\n",
    "\n",
    "window = sg.Window(title=\"Customized Button\", layout=layout, margins=(200, 100))\n",
    "\n",
    "event, values = window.read()\n",
    "print(event, values)\n",
    "\n",
    "window.close()"
   ]
  },
  {
   "cell_type": "markdown",
   "metadata": {},
   "source": [
    "- `button_color` : color of the buttons shown `(text color, button color)`"
   ]
  },
  {
   "cell_type": "code",
   "execution_count": null,
   "metadata": {},
   "outputs": [],
   "source": []
  },
  {
   "cell_type": "markdown",
   "metadata": {},
   "source": [
    "#### 16. Change button size "
   ]
  },
  {
   "cell_type": "code",
   "execution_count": null,
   "metadata": {},
   "outputs": [],
   "source": [
    "image_play = \"asset/play.png\"\n",
    "image_pause = \"asset/pause.png\"\n",
    "image_stop = \"asset/stop.png\"\n",
    "\n",
    "layout = [[sg.Text(\"Customized Button\")], \n",
    "          [\n",
    "          sg.Button(image_filename=image_play, button_color=('#FFF', '#FFF'), image_size=(40, 40), image_subsample=3, border_width=0),\n",
    "          sg.Button(image_filename=image_pause, button_color=('#FFF', '#FFF'), image_size=(40, 40), image_subsample=3, border_width=0),\n",
    "          sg.Button(image_filename=image_stop, button_color=('#FFF', '#FFF'), image_size=(40, 40), image_subsample=3, border_width=0)\n",
    "          ]]\n",
    "\n",
    "window = sg.Window(title=\"Customized Button\", layout=layout, margins=(200, 100))\n",
    "\n",
    "event, values = window.read()\n",
    "print(event, values)\n",
    "\n",
    "window.close()"
   ]
  },
  {
   "cell_type": "markdown",
   "metadata": {},
   "source": [
    "- `image_size` : Ukuran gambar dalam piksel `(width, height)`\n",
    "- `image_subsample` :1 Jumlah untuk membagi ukuran. 2 berarti gambar Anda akan berukuran 1/2. 3 berarti 1/3.\n",
    "- `border_width` : lebar batas pada tombol (pixel)."
   ]
  },
  {
   "cell_type": "markdown",
   "metadata": {},
   "source": [
    "### 17. Apply Customized Button to Video Player"
   ]
  },
  {
   "cell_type": "code",
   "execution_count": null,
   "metadata": {},
   "outputs": [],
   "source": [
    "image_play = \"asset/play.png\"\n",
    "image_pause = \"asset/pause.png\"\n",
    "image_stop = \"asset/stop.png\"\n",
    "\n",
    "layout = [[ \n",
    "            sg.Text(\"Video File\"),\n",
    "            sg.In(size=(25, 1), enable_events=True, key=\"-filename-\"),\n",
    "            sg.FileBrowse(file_types=((\"Video\", \"*.mp4\"),)),\n",
    "            sg.Button(key='play', image_filename=image_play, button_color=('#FFF', '#FFF'), image_size=(40, 40), image_subsample=3, border_width=0),\n",
    "            sg.Button(key='pause', image_filename=image_pause, button_color=('#FFF', '#FFF'), image_size=(40, 40), image_subsample=3, border_width=0),\n",
    "            sg.Button(key='stop', image_filename=image_stop, button_color=('#FFF', '#FFF'), image_size=(40, 40), image_subsample=3, border_width=0)\n",
    "          ],\n",
    "          [ \n",
    "            sg.Image(filename='empty.png', key='-image-') \n",
    "          ]]\n",
    "\n",
    "window = sg.Window(title=\"Video Browse & Viewer\", finalize=True, layout=layout, margins=(10, 10))\n",
    "\n",
    "cap = None\n",
    "stat = ''\n",
    "filename = ''\n",
    "while True :\n",
    "    event, values = window.read(timeout=25)\n",
    "    if event == sg.WIN_CLOSED :\n",
    "        break\n",
    "    if event == '-filename-' :\n",
    "        filename = values['-filename-']\n",
    "        \n",
    "    if event == 'play' or event == 'pause' or event == 'stop':\n",
    "        stat = event\n",
    "\n",
    "    if stat == 'play':\n",
    "        if cap is None:\n",
    "            cap = cv2.VideoCapture(filename)\n",
    "        ret, frame_byte = readBytesFromFrame(cap)\n",
    "        if not ret:\n",
    "            cap.release()\n",
    "            break\n",
    "        window['-image-'].update(data=frame_byte)\n",
    "    \n",
    "    if cap is not None and stat == 'stop':\n",
    "        cap.release()\n",
    "        cap = None\n",
    "        window['-image-'].update(filename='empty.png')\n",
    "        \n",
    "window.close()"
   ]
  },
  {
   "cell_type": "markdown",
   "metadata": {},
   "source": [
    "### 18. PySimpleGUI theme\n",
    "\n",
    "- list availabel theme"
   ]
  },
  {
   "cell_type": "code",
   "execution_count": null,
   "metadata": {},
   "outputs": [],
   "source": [
    "sg.theme_previewer() "
   ]
  },
  {
   "cell_type": "raw",
   "metadata": {},
   "source": [
    "[‘Black’, ‘BlueMono’, ‘BluePurple’, ‘BrightColors’, ‘BrownBlue’, ‘Dark’, ‘Dark2’, ‘DarkAmber’, ‘DarkBlack’, ‘DarkBlack1’, ‘DarkBlue’, \n",
    " ‘DarkBlue1’, ‘DarkBlue10’, ‘DarkBlue11’, ‘DarkBlue12’, ‘DarkBlue13’, ‘DarkBlue14’, ‘DarkBlue15’, ‘DarkBlue16’, ‘DarkBlue17’, \n",
    " ‘DarkBlue2’, ‘DarkBlue3’, ‘DarkBlue4’, ‘DarkBlue5’, ‘DarkBlue6’, ‘DarkBlue7’, ‘DarkBlue8’, ‘DarkBlue9’, ‘DarkBrown’, ‘DarkBrown1’, \n",
    " ‘DarkBrown2’, ‘DarkBrown3’, ‘DarkBrown4’, ‘DarkBrown5’, ‘DarkBrown6’, ‘DarkGreen’, ‘DarkGreen1’, ‘DarkGreen2’, ‘DarkGreen3’, \n",
    " ‘DarkGreen4’, ‘DarkGreen5’, ‘DarkGreen6’, ‘DarkGrey’, ‘DarkGrey1’, ‘DarkGrey2’, ‘DarkGrey3’, ‘DarkGrey4’, ‘DarkGrey5’, ‘DarkGrey6’, \n",
    " ‘DarkGrey7’, ‘DarkPurple’, ‘DarkPurple1’, ‘DarkPurple2’, ‘DarkPurple3’, ‘DarkPurple4’, ‘DarkPurple5’, ‘DarkPurple6’, ‘DarkRed’, \n",
    " ‘DarkRed1’, ‘DarkRed2’, ‘DarkTanBlue’, ‘DarkTeal’, ‘DarkTeal1’, ‘DarkTeal10’, ‘DarkTeal11’, ‘DarkTeal12’, ‘DarkTeal2’, ‘DarkTeal3’, \n",
    " ‘DarkTeal4’, ‘DarkTeal5’, ‘DarkTeal6’, ‘DarkTeal7’, ‘DarkTeal8’, ‘DarkTeal9’, ‘Default’, ‘Default1’, ‘DefaultNoMoreNagging’, \n",
    " ‘Green’, ‘GreenMono’, ‘GreenTan’, ‘HotDogStand’, ‘Kayak’, ‘LightBlue’, ‘LightBlue1’, ‘LightBlue2’, ‘LightBlue3’, ‘LightBlue4’, \n",
    " ‘LightBlue5’, ‘LightBlue6’, ‘LightBlue7’, ‘LightBrown’, ‘LightBrown1’, ‘LightBrown10’, ‘LightBrown11’, ‘LightBrown12’, \n",
    " ‘LightBrown13’, ‘LightBrown2’, ‘LightBrown3’, ‘LightBrown4’, ‘LightBrown5’, ‘LightBrown6’, ‘LightBrown7’, ‘LightBrown8’, \n",
    " ‘LightBrown9’, ‘LightGray1’, ‘LightGreen’, ‘LightGreen1’, ‘LightGreen10’, ‘LightGreen2’, ‘LightGreen3’, ‘LightGreen4’, ‘LightGreen5’, \n",
    " ‘LightGreen6’, ‘LightGreen7’, ‘LightGreen8’, ‘LightGreen9’, ‘LightGrey’, ‘LightGrey1’, ‘LightGrey2’, ‘LightGrey3’, ‘LightGrey4’, \n",
    " ‘LightGrey5’, ‘LightGrey6’, ‘LightPurple’, ‘LightTeal’, ‘LightYellow’, ‘Material1’, ‘Material2’, ‘NeutralBlue’, ‘Purple’, ‘Reddit’, \n",
    " ‘Reds’, ‘SandyBeach’, ‘SystemDefault’, ‘SystemDefault1’, ‘SystemDefaultForReal’, ‘Tan’, ‘TanBlue’, ‘TealMono’, ‘Topanga’]"
   ]
  },
  {
   "cell_type": "markdown",
   "metadata": {},
   "source": [
    "- change theme"
   ]
  },
  {
   "cell_type": "code",
   "execution_count": null,
   "metadata": {},
   "outputs": [],
   "source": [
    "sg.theme('Topanga')"
   ]
  },
  {
   "cell_type": "code",
   "execution_count": null,
   "metadata": {},
   "outputs": [],
   "source": [
    "sg.theme('LightGreen8')"
   ]
  },
  {
   "cell_type": "code",
   "execution_count": null,
   "metadata": {},
   "outputs": [],
   "source": [
    "\n",
    "layout = [[sg.Text(\"Hello from PySimpleGUI\")], \n",
    "          [sg.Button(\"OK\")]]\n",
    "\n",
    "window = sg.Window(title=\"Hello World\", layout=layout, margins=(200, 100))\n",
    "\n",
    "event, values = window.read()\n",
    "print(event, values)\n",
    "\n",
    "window.close()"
   ]
  },
  {
   "cell_type": "code",
   "execution_count": null,
   "metadata": {},
   "outputs": [],
   "source": []
  },
  {
   "cell_type": "code",
   "execution_count": null,
   "metadata": {},
   "outputs": [],
   "source": []
  },
  {
   "cell_type": "code",
   "execution_count": null,
   "metadata": {},
   "outputs": [],
   "source": []
  },
  {
   "cell_type": "code",
   "execution_count": null,
   "metadata": {},
   "outputs": [],
   "source": []
  },
  {
   "cell_type": "code",
   "execution_count": null,
   "metadata": {},
   "outputs": [],
   "source": []
  },
  {
   "cell_type": "code",
   "execution_count": null,
   "metadata": {},
   "outputs": [],
   "source": []
  },
  {
   "cell_type": "code",
   "execution_count": null,
   "metadata": {},
   "outputs": [],
   "source": []
  }
 ],
 "metadata": {
  "kernelspec": {
   "display_name": "Python 3 (ipykernel)",
   "language": "python",
   "name": "python3"
  },
  "language_info": {
   "codemirror_mode": {
    "name": "ipython",
    "version": 3
   },
   "file_extension": ".py",
   "mimetype": "text/x-python",
   "name": "python",
   "nbconvert_exporter": "python",
   "pygments_lexer": "ipython3",
   "version": "3.9.12"
  }
 },
 "nbformat": 4,
 "nbformat_minor": 4
}
